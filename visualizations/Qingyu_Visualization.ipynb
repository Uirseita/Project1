{
 "cells": [
  {
   "cell_type": "code",
   "execution_count": null,
   "metadata": {},
   "outputs": [],
   "source": [
    "import numpy as np\n",
    "import pandas as pd\n",
    "import matplotlib.pyplot as plt\n",
    "import seaborn as sns\n",
    "import random\n",
    "from datetime import datetime\n",
    "from datetime import timedelta\n",
    "% matplotlib inline\n",
    "sns.set(style=\"darkgrid\")\n",
    "from bs4 import BeautifulSoup\n",
    "import requests\n",
    "import pprint\n",
    "import re"
   ]
  },
  {
   "cell_type": "code",
   "execution_count": null,
   "metadata": {},
   "outputs": [],
   "source": [
    "df = pd.read_csv('../big_data/cleaned_flight_data_updated.csv', nrows=20)"
   ]
  },
  {
   "cell_type": "code",
   "execution_count": null,
   "metadata": {},
   "outputs": [],
   "source": [
    "# drop some error data\n",
    "airport_lst = ['TKI']\n",
    "tail_num_lst = ['PLANET', 'N101NK', 'N999FR', 'N700TA', 'N187SW', 'N399FR']\n",
    "df = df[(~df['ORIGIN'].isin(airport_lst))\n",
    "        & (~df['TAIL_NUM'].isin(tail_num_lst))]\n",
    "df['age'] = df['YEAR'] - df['mfr_year']"
   ]
  },
  {
   "cell_type": "code",
   "execution_count": null,
   "metadata": {},
   "outputs": [],
   "source": [
    "# For delayed flights\n",
    "delayed_flight = df[df['DEP_DELAY'] > 15].reset_index(drop=True)"
   ]
  },
  {
   "cell_type": "code",
   "execution_count": null,
   "metadata": {},
   "outputs": [],
   "source": [
    "res_dict = dict()\n",
    "minutes_dict = dict()\n",
    "pattern = re.compile(r'\\d{2}')\n",
    "\n",
    "for index, row in delayed_flight.iterrows():\n",
    "    match = []\n",
    "    if isinstance(row['HOURLYPRSENTWEATHERTYPE_origin'], str):\n",
    "        if re.search(r'\\|.*?(([A-Za-z]{2,}:(\\d{2})\\s)*)\\|', row['HOURLYPRSENTWEATHERTYPE_origin']):\n",
    "            string = re.search(r'\\|.*?(([A-Za-z]{2,}:(\\d{2})\\s)*)\\|', row['HOURLYPRSENTWEATHERTYPE_origin']).group(0)\n",
    "            match = pattern.findall(string)\n",
    "    if len(match) == 0:\n",
    "        if 0 in list(res_dict.keys()):\n",
    "            res_dict[0] += 1\n",
    "            minutes_dict[0] += row['DEP_DELAY']\n",
    "        else:\n",
    "            res_dict[0] = 1\n",
    "            minutes_dict[0] = row['DEP_DELAY']\n",
    "    else:\n",
    "        for num in match:\n",
    "            if int(num) in list(res_dict.keys()):\n",
    "                res_dict[int(num)] += 1\n",
    "                minutes_dict[int(num)] += row['DEP_DELAY']\n",
    "            else:\n",
    "                res_dict[int(num)] = 1\n",
    "                minutes_dict[int(num)] = row['DEP_DELAY']"
   ]
  },
  {
   "cell_type": "code",
   "execution_count": null,
   "metadata": {},
   "outputs": [],
   "source": [
    "avr_dict = dict()\n",
    "for i in list(res_dict.keys()):\n",
    "    avr_dict[i] = minutes_dict[i] / res_dict[i]\n",
    "weather_type_df = pd.read_csv('../../Weather Data/weather_type_codes.csv', sep='\\t')\n",
    "new_avr_dict = dict()\n",
    "for i in range(weather_type_df.shape[0]):\n",
    "    if weather_type_df.loc[i, 'weather code'] in list(avr_dict.keys()):\n",
    "        new_avr_dict[weather_type_df.loc[i, 'weather type']] = avr_dict[weather_type_df.loc[i, 'weather code']]\n",
    "new_res_dict = dict()\n",
    "for i in range(weather_type_df.shape[0]):\n",
    "    if weather_type_df.loc[i, 'weather code'] in list(res_dict.keys()):\n",
    "        new_res_dict[weather_type_df.loc[i, 'weather type']] = res_dict[weather_type_df.loc[i, 'weather code']]\n",
    "new_res_df = pd.DataFrame.from_dict(new_res_dict, orient='index', columns=['count']).sort_values(by='count')\n",
    "new_avr_df = pd.DataFrame.from_dict(new_avr_dict, orient='index', columns=['average delay minutes']).sort_values(by='average delay minutes')"
   ]
  },
  {
   "cell_type": "code",
   "execution_count": null,
   "metadata": {},
   "outputs": [],
   "source": [
    "new_avr_df.plot(kind='barh', title='Average Delay Minutes of Different Weather Types', figsize=(10,7), fontsize=14)"
   ]
  },
  {
   "cell_type": "code",
   "execution_count": null,
   "metadata": {},
   "outputs": [],
   "source": [
    "new_res_df.plot(kind='barh', title='Count of Delayed Flights of Different Weather Types', figsize=(10,7), fontsize=14)"
   ]
  },
  {
   "cell_type": "markdown",
   "metadata": {},
   "source": [
    "## Delay to plane age"
   ]
  },
  {
   "cell_type": "code",
   "execution_count": null,
   "metadata": {},
   "outputs": [],
   "source": [
    "all_flights_age_count = np.array(df.groupby('age').DEP_DELAY.count().tolist()[1:])\n",
    "delay_flights_age_count = np.array(delayed_flight.groupby('age').DEP_DELAY.count().tolist()[1:])\n",
    "plt.plot(range(0,33), delay_flights_age_count / all_flights_age_count)\n",
    "plt.xlabel('Age of Aircraft', fontsize=20)\n",
    "plt.ylabel('Delay Percentage', fontsize=20)\n",
    "fig = plt.gcf()\n",
    "fig.set_size_inches(18.5, 10.5)"
   ]
  },
  {
   "cell_type": "code",
   "execution_count": null,
   "metadata": {},
   "outputs": [],
   "source": [
    "delayed_flight_age = delayed_flight.groupby('age').DEP_DELAY.mean()\n",
    "plt.plot(delayed_flight_age.index, delayed_flight_age.values)\n",
    "plt.xlabel('Age of Aircraft', fontsize=20)\n",
    "plt.ylabel('Average Delay Minutes', fontsize=20)\n",
    "fig = plt.gcf()\n",
    "fig.set_size_inches(18.5, 10.5)"
   ]
  },
  {
   "cell_type": "markdown",
   "metadata": {},
   "source": [
    "## Delay to carrier"
   ]
  },
  {
   "cell_type": "code",
   "execution_count": null,
   "metadata": {},
   "outputs": [],
   "source": [
    "all_flights_carrier_count = np.array(df.groupby('OP_CARRIER').DEP_DELAY.count().tolist())\n",
    "delay_flights_carrier_count = np.array(delayed_flight.groupby('carrier').DEP_DELAY.count().tolist())\n",
    "carrier_names = df.groupby('OP_CARRIER').DEP_DELAY.count().index.tolist()\n",
    "carrier_delay_percentage = pd.DataFrame(delay_flights_carrier_count / all_flights_carrier_count, index=carrier_names, columns=['delay_percentage'])\n",
    "carrier_delay_percentage = carrier_delay_percentage.sort_values(by='delay_percentage')\n",
    "plt.bar(carrier_delay_percentage.index, carrier_delay_percentage.delay_percentage)\n",
    "plt.xticks(delayed_flight_carrier.index, fontsize=15)\n",
    "plt.xlabel('Carrier', fontsize=20)\n",
    "plt.ylabel('Delay Percentage', fontsize=20)\n",
    "fig = plt.gcf()\n",
    "fig.set_size_inches(18.5, 10.5)"
   ]
  },
  {
   "cell_type": "code",
   "execution_count": null,
   "metadata": {},
   "outputs": [],
   "source": [
    "delayed_flight_carrier = delayed_flight.groupby('OP_CARRIER').DEP_DELAY.mean().sort_values()\n",
    "plt.bar(delayed_flight_carrier.index, delayed_flight_carrier.values)\n",
    "plt.xticks(delayed_flight_carrier.index, fontsize=15)\n",
    "plt.xlabel('Carrier', fontsize=20)\n",
    "plt.ylabel('Average Delay Minutes', fontsize=20)\n",
    "fig = plt.gcf()\n",
    "fig.set_size_inches(18.5, 10.5)"
   ]
  },
  {
   "cell_type": "markdown",
   "metadata": {},
   "source": [
    "## Delay to plane manufacturer"
   ]
  },
  {
   "cell_type": "code",
   "execution_count": null,
   "metadata": {},
   "outputs": [],
   "source": [
    "all_flights_mfr_count = np.array(df.groupby('mfr_name').DEP_DELAY.count().tolist())\n",
    "delay_flights_mfr_count = np.array(delayed_flight.groupby('mfr_name').DEP_DELAY.count().tolist())\n",
    "mfr_names = df.groupby('mfr_name').DEP_DELAY.count().index.tolist()\n",
    "mfr_delay_percentage = pd.DataFrame(delay_flights_mfr_count / all_flights_mfr_count, index=mfr_names, columns=['delay_percentage'])\n",
    "mfr_delay_percentage = mfr_delay_percentage.sort_values(by='delay_percentage')\n",
    "plt.bar(mfr_delay_percentage.index, mfr_delay_percentage.delay_percentage)\n",
    "plt.xticks(mfr_delay_percentage.index)\n",
    "plt.xlabel('Manufacturer', fontsize=20)\n",
    "plt.ylabel('Delay Percentage', fontsize=20)\n",
    "fig = plt.gcf()\n",
    "fig.set_size_inches(18.5, 10.5)"
   ]
  },
  {
   "cell_type": "code",
   "execution_count": null,
   "metadata": {},
   "outputs": [],
   "source": [
    "delayed_flight_mfr = delayed_flight.groupby('mfr_name').DEP_DELAY.mean().sort_values()\n",
    "plt.bar(delayed_flight_mfr.index, delayed_flight_mfr.values)\n",
    "plt.xticks(delayed_flight_mfr.index)\n",
    "plt.xlabel('Manufacturer', fontsize=20)\n",
    "plt.ylabel('Average Delay Minutes', fontsize=20)\n",
    "fig = plt.gcf()\n",
    "fig.set_size_inches(18.5, 10.5)"
   ]
  },
  {
   "cell_type": "markdown",
   "metadata": {},
   "source": [
    "## Delay to aircraft model"
   ]
  },
  {
   "cell_type": "code",
   "execution_count": null,
   "metadata": {},
   "outputs": [],
   "source": [
    "all_flights_model_count = np.array(df.groupby('model_2').DEP_DELAY.count().tolist())\n",
    "delay_flights_model_count = np.array(delayed_flight.groupby('model_2').DEP_DELAY.count().tolist())\n",
    "model_names = df.groupby('model_2').DEP_DELAY.count().index.tolist()\n",
    "model_delay_percentage = pd.DataFrame(delay_flights_model_count / all_flights_model_count, index=model_names, columns=['delay_percentage'])\n",
    "model_delay_percentage = model_delay_percentage.sort_values(by='delay_percentage')\n",
    "plt.bar(model_delay_percentage.index, model_delay_percentage.delay_percentage)\n",
    "plt.xticks(model_delay_percentage.index, rotation=90, fontsize=15)\n",
    "plt.xlabel('Aircraft Model', fontsize=20)\n",
    "plt.ylabel('Delay Percentage', fontsize=20)\n",
    "fig = plt.gcf()\n",
    "fig.set_size_inches(18.5, 10.5)"
   ]
  },
  {
   "cell_type": "code",
   "execution_count": null,
   "metadata": {},
   "outputs": [],
   "source": [
    "delayed_flight_model = delayed_flight.groupby('model_2').DEP_DELAY.mean().sort_values()\n",
    "plt.bar(delayed_flight_model.index, delayed_flight_model.values)\n",
    "plt.xticks(delayed_flight_model.index, rotation=90, fontsize=15)\n",
    "plt.xlabel('Aircraft Model', fontsize=20)\n",
    "plt.ylabel('Average Delay Minutes', fontsize=20)\n",
    "fig = plt.gcf()\n",
    "fig.set_size_inches(18.5, 10.5)"
   ]
  },
  {
   "cell_type": "markdown",
   "metadata": {},
   "source": [
    "## Delay to engine manufacturer"
   ]
  },
  {
   "cell_type": "code",
   "execution_count": null,
   "metadata": {},
   "outputs": [],
   "source": [
    "all_flights_eng_mfr_count = np.array(df.groupby('eng_mfr_name').DEP_DELAY.count().tolist())\n",
    "delay_flights_eng_mfr_count = np.array(delayed_flight.groupby('eng_mfr_name').DEP_DELAY.count().tolist())\n",
    "eng_mfr_names = df.groupby('eng_mfr_name').DEP_DELAY.count().index.tolist()\n",
    "eng_mfr_delay_percentage = pd.DataFrame(delay_flights_eng_mfr_count / all_flights_eng_mfr_count, index=eng_mfr_names, columns=['delay_percentage'])\n",
    "eng_mfr_delay_percentage = eng_mfr_delay_percentage.sort_values(by='delay_percentage')\n",
    "plt.bar(eng_mfr_delay_percentage.index, eng_mfr_delay_percentage.delay_percentage)\n",
    "plt.xticks(eng_mfr_delay_percentage.index, rotation=45)\n",
    "plt.xlabel('Engine Manufacturer')\n",
    "plt.ylabel('Delay Percentage')"
   ]
  },
  {
   "cell_type": "code",
   "execution_count": null,
   "metadata": {},
   "outputs": [],
   "source": [
    "delayed_flight_eng_mfr = delayed_flight.groupby('eng_mfr_name').DEP_DELAY.mean().sort_values()\n",
    "plt.bar(delayed_flight_eng_mfr.index, delayed_flight_eng_mfr.values)\n",
    "plt.xticks(delayed_flight_eng_mfr.index, rotation=45)\n",
    "plt.xlabel('Engine Manufacturer')\n",
    "plt.ylabel('Average Delay Minutes')"
   ]
  },
  {
   "cell_type": "markdown",
   "metadata": {},
   "source": [
    "## Delay to engine model"
   ]
  },
  {
   "cell_type": "code",
   "execution_count": null,
   "metadata": {},
   "outputs": [],
   "source": [
    "all_flights_eng_model_count = np.array(df.groupby('eng_model').DEP_DELAY.count().tolist())\n",
    "delay_flights_eng_model_count = np.array(delayed_flight.groupby('eng_model').DEP_DELAY.count().tolist())\n",
    "eng_model_names = df.groupby('eng_model').DEP_DELAY.count().index.tolist()\n",
    "eng_model_delay_percentage = pd.DataFrame(delay_flights_eng_model_count / all_flights_eng_model_count, index=eng_model_names, columns=['delay_percentage'])\n",
    "eng_model_delay_percentage = eng_model_delay_percentage.sort_values(by='delay_percentage')\n",
    "plt.bar(eng_model_delay_percentage.index, eng_model_delay_percentage.delay_percentage)\n",
    "plt.xticks(eng_model_delay_percentage.index, rotation=90, fontsize=15)\n",
    "plt.xlabel('Engine Model', fontsize=20)\n",
    "plt.ylabel('Delay Percentage', fontsize=20)\n",
    "fig = plt.gcf()\n",
    "fig.set_size_inches(18.5, 10.5)"
   ]
  },
  {
   "cell_type": "code",
   "execution_count": null,
   "metadata": {},
   "outputs": [],
   "source": [
    "delayed_flight_eng_model = delayed_flight.groupby('eng_model').DEP_DELAY.mean().sort_values()\n",
    "plt.bar(delayed_flight_eng_model.index, delayed_flight_eng_model.values)\n",
    "plt.xticks(delayed_flight_eng_model.index, rotation=90, fontsize=15)\n",
    "plt.xlabel('Engine Model', fontsize=20)\n",
    "plt.ylabel('Average Delay Minutes', fontsize=20)\n",
    "fig = plt.gcf()\n",
    "fig.set_size_inches(18.5, 10.5)"
   ]
  },
  {
   "cell_type": "code",
   "execution_count": null,
   "metadata": {},
   "outputs": [],
   "source": []
  },
  {
   "cell_type": "markdown",
   "metadata": {},
   "source": [
    "# Delayed flights on US map"
   ]
  },
  {
   "cell_type": "code",
   "execution_count": null,
   "metadata": {},
   "outputs": [],
   "source": [
    "from mpl_toolkits.basemap import Basemap as Basemap\n",
    "from math import log10"
   ]
  },
  {
   "cell_type": "markdown",
   "metadata": {},
   "source": [
    "## Delay by origin airport"
   ]
  },
  {
   "cell_type": "code",
   "execution_count": null,
   "metadata": {},
   "outputs": [],
   "source": [
    "avr_delay = pd.read_csv('../airport_delay.csv')\n",
    "avr_delay['delay_percentage'] = avr_delay['delay_count'] / avr_delay['total_count']\n",
    "# drop airports with too few flights\n",
    "avr_delay = avr_delay[avr_delay['total_count'] >= 10]"
   ]
  },
  {
   "cell_type": "code",
   "execution_count": null,
   "metadata": {},
   "outputs": [],
   "source": [
    "# set the stations 3 std of avr_day far away mean to mean + 3 std\n",
    "inx = avr_delay[\n",
    "    np.abs(avr_delay.avr_delay - avr_delay.avr_delay.mean()) > (\n",
    "                3 * avr_delay.avr_delay.std())].index.tolist()\n",
    "set_value = avr_delay.avr_delay.mean() + 3 * avr_delay.avr_delay.std()\n",
    "for i in inx:\n",
    "    avr_delay.loc[i, 'avr_delay'] = set_value"
   ]
  },
  {
   "cell_type": "markdown",
   "metadata": {},
   "source": [
    "## delay percentage to origin airports"
   ]
  },
  {
   "cell_type": "code",
   "execution_count": null,
   "metadata": {},
   "outputs": [],
   "source": [
    "# continental US\n",
    "lat = avr_delay['LATITUDE'].values\n",
    "lon = avr_delay['LONGITUDE'].values\n",
    "size = avr_delay['passenger_count'].apply(lambda x: log10(x)).values\n",
    "colors = avr_delay['delay_percentage'].values\n",
    "m = Basemap(llcrnrlon=-128,llcrnrlat=22,urcrnrlon=-64,urcrnrlat=51,\n",
    "        projection='lcc',lat_1=33,lat_2=45,lon_0=-96,\n",
    "            resolution='l', epsg=4687)\n",
    "m.arcgisimage(service=\"ESRI_StreetMap_World_2D\", xpixels=950)\n",
    "m.drawcoastlines(color='gray')\n",
    "m.drawcountries(color='black')\n",
    "m.drawstates(color='grey')\n",
    "m.scatter(lon, lat, latlon=True,\n",
    "      c=colors, cmap=plt.cm.hot_r, alpha=0.7, s=2.5 ** size)\n",
    "# make a color bar\n",
    "plt.colorbar(label=r'Delay Percentage')\n",
    "plt.clim(0, 0.4)\n",
    "# make a legend\n",
    "for a in [50000, 500000, 5000000]:\n",
    "    plt.scatter([], [], c='k', alpha=0.5, s=2.5 ** log10(a),\n",
    "                label=str(2*a))\n",
    "plt.legend(scatterpoints=1, frameon=False,\n",
    "           labelspacing=1, loc='lower right', title='Annual Passenger Count')\n",
    "fig = plt.gcf()\n",
    "fig.set_size_inches(18.5, 7.5)\n",
    "plt.show()"
   ]
  },
  {
   "cell_type": "code",
   "execution_count": null,
   "metadata": {},
   "outputs": [],
   "source": [
    "# Alaska\n",
    "m = Basemap(llcrnrlon=-170, llcrnrlat=50, urcrnrlon=-110, urcrnrlat=72,\n",
    "            projection='lcc', lat_1=59, lat_2=66, lon_0=-142,\n",
    "            resolution='l', epsg=2964)\n",
    "m.arcgisimage(service=\"ESRI_StreetMap_World_2D\", xpixels=950)\n",
    "m.drawcountries(color='black')\n",
    "m.drawstates(color='grey')\n",
    "m.scatter(lon, lat, latlon=True,\n",
    "          c=colors, cmap=plt.cm.hot_r, alpha=0.7, s=2.5 ** size * 4)\n",
    "ax_2 = plt.gca()\n",
    "ax_2.text(.7, .15, 'Alaska',\n",
    "          horizontalalignment='center',\n",
    "          transform=ax_2.transAxes, color='red', fontsize=25)"
   ]
  },
  {
   "cell_type": "code",
   "execution_count": null,
   "metadata": {},
   "outputs": [],
   "source": [
    "# Hawaii\n",
    "m = Basemap(llcrnrlon=-160, llcrnrlat=18, urcrnrlon=-154, urcrnrlat=23,\n",
    "            projection='lcc', lat_1=19.5, lat_2=22, lon_0=-156,\n",
    "            resolution='l', epsg=2782)\n",
    "m.arcgisimage(service=\"ESRI_StreetMap_World_2D\", xpixels=500)\n",
    "m.drawcountries(color='black')\n",
    "m.drawstates(color='grey')\n",
    "m.scatter(lon, lat, latlon=True,\n",
    "          c=colors, cmap=plt.cm.hot_r, alpha=0.7, s=2.5 ** size * 4)\n",
    "ax_3 = plt.gca()\n",
    "ax_3.text(.35, .4, 'Hawaii',\n",
    "          horizontalalignment='center',\n",
    "          transform=ax_3.transAxes, color='red', fontsize=25)"
   ]
  },
  {
   "cell_type": "code",
   "execution_count": null,
   "metadata": {},
   "outputs": [],
   "source": [
    "# Puerto Rico & US Virgin Islands\n",
    "m = Basemap(llcrnrlon=-68, llcrnrlat=17.5, urcrnrlon=-64, urcrnrlat=18.6,\n",
    "            projection='lcc', lat_1=18, lat_2=18.5, lon_0=-66,\n",
    "            resolution='l', epsg=2866)\n",
    "m.arcgisimage(service=\"ESRI_StreetMap_World_2D\", xpixels=1000)\n",
    "m.drawcountries(color='black')\n",
    "m.drawstates(color='grey')\n",
    "m.scatter(lon, lat, latlon=True,\n",
    "          c=colors, cmap=plt.cm.hot_r, alpha=0.7, s=2.5 ** size * 4)\n",
    "ax_4 = plt.gca()\n",
    "ax_4.text(.37, .15, 'Puerto Rico & US Virgin Islands',\n",
    "          horizontalalignment='center',\n",
    "          transform=ax_4.transAxes, color='red', fontsize=17)"
   ]
  },
  {
   "cell_type": "code",
   "execution_count": null,
   "metadata": {},
   "outputs": [],
   "source": [
    " # American Samoa\n",
    "m = Basemap(llcrnrlon=-171, llcrnrlat=-14.4, urcrnrlon=-170.5,\n",
    "            urcrnrlat=-14.2,\n",
    "            projection='lcc', lat_1=-14.4, lat_2=-14.2, lon_0=-170.75,\n",
    "            resolution='l', epsg=3102)\n",
    "m.arcgisimage(service=\"ESRI_StreetMap_World_2D\", xpixels=1000)\n",
    "m.drawcountries(color='black')\n",
    "m.drawstates(color='grey')\n",
    "m.scatter(lon, lat, latlon=True,\n",
    "          c=colors, cmap=plt.cm.hot_r, alpha=0.7, s=2.5 ** size * 100 / 16)\n",
    "ax_5 = plt.gca()\n",
    "ax_5.text(.35, .75, 'American Samoa',\n",
    "          horizontalalignment='center',\n",
    "          transform=ax_5.transAxes, color='red', fontsize=25)"
   ]
  },
  {
   "cell_type": "code",
   "execution_count": null,
   "metadata": {},
   "outputs": [],
   "source": [
    " # Guam\n",
    "m = Basemap(llcrnrlon=144.5, llcrnrlat=13.2, urcrnrlon=145, urcrnrlat=13.7,\n",
    "            projection='lcc', lat_1=13.3, lat_2=13.6, lon_0=144.75,\n",
    "            resolution='l', epsg=4675)\n",
    "m.arcgisimage(service=\"ESRI_StreetMap_World_2D\", xpixels=1000)\n",
    "m.drawcountries(color='black')\n",
    "m.drawstates(color='grey')\n",
    "m.scatter(lon, lat, latlon=True,\n",
    "          c=colors, cmap=plt.cm.hot_r, alpha=0.7, s=2.5 ** size * 100 / 16)\n",
    "ax_6 = plt.gca()\n",
    "ax_6.text(.35, .75, 'Guam',\n",
    "          horizontalalignment='center',\n",
    "          transform=ax_6.transAxes, color='red', fontsize=25)"
   ]
  },
  {
   "cell_type": "markdown",
   "metadata": {},
   "source": [
    "## average delay minutes for delayed flights to origin airports"
   ]
  },
  {
   "cell_type": "code",
   "execution_count": null,
   "metadata": {},
   "outputs": [],
   "source": [
    "# continental US\n",
    "lat = avr_delay['LATITUDE'].values\n",
    "lon = avr_delay['LONGITUDE'].values\n",
    "size = avr_delay['passenger_count'].apply(lambda x: log10(x)).values\n",
    "colors = avr_delay['avr_delay'].values\n",
    "m = Basemap(llcrnrlon=-128, llcrnrlat=22, urcrnrlon=-64, urcrnrlat=51,\n",
    "            projection='lcc', lat_1=33, lat_2=45, lon_0=-96,\n",
    "            resolution='l', epsg=4687)\n",
    "m.arcgisimage(service=\"ESRI_StreetMap_World_2D\", xpixels=950)\n",
    "m.drawcoastlines(color='gray')\n",
    "m.drawcountries(color='black')\n",
    "m.drawstates(color='grey')\n",
    "m.scatter(lon, lat, latlon=True,\n",
    "          c=colors, cmap=plt.cm.hot_r, alpha=0.7, s=2.5 ** size)\n",
    "# make a color bar\n",
    "plt.colorbar(label=r'Delay Percentage')\n",
    "plt.clim(0, 0.4)\n",
    "# make a legend\n",
    "for a in [50000, 500000, 5000000]:\n",
    "    plt.scatter([], [], c='k', alpha=0.5, s=2.5 ** log10(a),\n",
    "                label=str(2 * a))\n",
    "plt.legend(scatterpoints=1, frameon=False,\n",
    "           labelspacing=1, loc='lower right',\n",
    "           title='Annual Passenger Count')\n",
    "fig = plt.gcf()\n",
    "fig.set_size_inches(18.5, 7.5)\n",
    "plt.show()"
   ]
  },
  {
   "cell_type": "code",
   "execution_count": null,
   "metadata": {},
   "outputs": [],
   "source": [
    "# Alaska\n",
    "m = Basemap(llcrnrlon=-170, llcrnrlat=50, urcrnrlon=-110, urcrnrlat=72,\n",
    "            projection='lcc', lat_1=59, lat_2=66, lon_0=-142,\n",
    "            resolution='l', epsg=2964)\n",
    "m.arcgisimage(service=\"ESRI_StreetMap_World_2D\", xpixels=950)\n",
    "m.drawcountries(color='black')\n",
    "m.drawstates(color='grey')\n",
    "m.scatter(lon, lat, latlon=True,\n",
    "          c=colors, cmap=plt.cm.hot_r, alpha=0.7, s=2.5 ** size * 4)\n",
    "ax_2 = plt.gca()\n",
    "ax_2.text(.7, .15, 'Alaska',\n",
    "          horizontalalignment='center',\n",
    "          transform=ax_2.transAxes, color='red', fontsize=25)"
   ]
  },
  {
   "cell_type": "code",
   "execution_count": null,
   "metadata": {},
   "outputs": [],
   "source": [
    "# Hawaii\n",
    "m = Basemap(llcrnrlon=-160, llcrnrlat=18, urcrnrlon=-154, urcrnrlat=23,\n",
    "            projection='lcc', lat_1=19.5, lat_2=22, lon_0=-156,\n",
    "            resolution='l', epsg=2782)\n",
    "m.arcgisimage(service=\"ESRI_StreetMap_World_2D\", xpixels=500)\n",
    "m.drawcountries(color='black')\n",
    "m.drawstates(color='grey')\n",
    "m.scatter(lon, lat, latlon=True,\n",
    "          c=colors, cmap=plt.cm.hot_r, alpha=0.7, s=2.5 ** size * 4)\n",
    "ax_3 = plt.gca()\n",
    "ax_3.text(.35, .4, 'Hawaii',\n",
    "          horizontalalignment='center',\n",
    "          transform=ax_3.transAxes, color='red', fontsize=25)"
   ]
  },
  {
   "cell_type": "code",
   "execution_count": null,
   "metadata": {},
   "outputs": [],
   "source": [
    "# Puerto Rico & US Virgin Islands\n",
    "m = Basemap(llcrnrlon=-68, llcrnrlat=17.5, urcrnrlon=-64, urcrnrlat=18.6,\n",
    "            projection='lcc', lat_1=18, lat_2=18.5, lon_0=-66,\n",
    "            resolution='l', epsg=2866)\n",
    "m.arcgisimage(service=\"ESRI_StreetMap_World_2D\", xpixels=1000)\n",
    "m.drawcountries(color='black')\n",
    "m.drawstates(color='grey')\n",
    "m.scatter(lon, lat, latlon=True,\n",
    "          c=colors, cmap=plt.cm.hot_r, alpha=0.7, s=2.5 ** size * 4)\n",
    "ax_4 = plt.gca()\n",
    "ax_4.text(.37, .15, 'Puerto Rico & US Virgin Islands',\n",
    "          horizontalalignment='center',\n",
    "          transform=ax_4.transAxes, color='red', fontsize=17)"
   ]
  },
  {
   "cell_type": "code",
   "execution_count": null,
   "metadata": {},
   "outputs": [],
   "source": [
    "# American Samoa\n",
    "m = Basemap(llcrnrlon=-171, llcrnrlat=-14.4, urcrnrlon=-170.5,\n",
    "            urcrnrlat=-14.2,\n",
    "            projection='lcc', lat_1=-14.4, lat_2=-14.2, lon_0=-170.75,\n",
    "            resolution='l', epsg=3102)\n",
    "m.arcgisimage(service=\"ESRI_StreetMap_World_2D\", xpixels=1000)\n",
    "m.drawcountries(color='black')\n",
    "m.drawstates(color='grey')\n",
    "m.scatter(lon, lat, latlon=True,\n",
    "          c=colors, cmap=plt.cm.hot_r, alpha=0.7, s=2.5 ** size * 100 / 16)\n",
    "ax_5 = plt.gca()\n",
    "ax_5.text(.35, .75, 'American Samoa',\n",
    "          horizontalalignment='center',\n",
    "          transform=ax_5.transAxes, color='red', fontsize=25)"
   ]
  },
  {
   "cell_type": "code",
   "execution_count": null,
   "metadata": {},
   "outputs": [],
   "source": [
    "# Guam\n",
    "m = Basemap(llcrnrlon=144.5, llcrnrlat=13.2, urcrnrlon=145, urcrnrlat=13.7,\n",
    "            projection='lcc', lat_1=13.3, lat_2=13.6, lon_0=144.75,\n",
    "            resolution='l', epsg=4675)\n",
    "m.arcgisimage(service=\"ESRI_StreetMap_World_2D\", xpixels=1000)\n",
    "m.drawcountries(color='black')\n",
    "m.drawstates(color='grey')\n",
    "m.scatter(lon, lat, latlon=True,\n",
    "          c=colors, cmap=plt.cm.hot_r, alpha=0.7, s=2.5 ** size * 100 / 16)\n",
    "ax_6 = plt.gca()\n",
    "ax_6.text(.35, .75, 'Guam',\n",
    "          horizontalalignment='center',\n",
    "          transform=ax_6.transAxes, color='red', fontsize=25)\n"
   ]
  }
 ],
 "metadata": {
  "kernelspec": {
   "display_name": "Python [conda root]",
   "language": "python",
   "name": "conda-root-py"
  },
  "language_info": {
   "codemirror_mode": {
    "name": "ipython",
    "version": 3
   },
   "file_extension": ".py",
   "mimetype": "text/x-python",
   "name": "python",
   "nbconvert_exporter": "python",
   "pygments_lexer": "ipython3",
   "version": "3.6.5"
  }
 },
 "nbformat": 4,
 "nbformat_minor": 2
}
