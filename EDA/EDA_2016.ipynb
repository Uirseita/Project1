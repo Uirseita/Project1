{
 "cells": [
  {
   "cell_type": "code",
   "execution_count": 6,
   "metadata": {},
   "outputs": [],
   "source": [
    "import pandas as pd \n",
    "import seaborn as sns\n",
    "import matplotlib.pyplot as plt\n",
    "import numpy as np\n",
    "import datetime as dt\n",
    "import random\n",
    "import math\n",
    "from scipy import stats\n",
    "from sklearn.linear_model import LinearRegression\n",
    "\n",
    "%matplotlib inline\n",
    "plt.style.use('seaborn-darkgrid')\n",
    "\n",
    "# train =  pd.read_csv('2016.csv', nrows = 50000, delimiter = ',')\n",
    "\n",
    "p = 0.01  # 1% of lines\n",
    "filename = '2016.csv'\n",
    "\n",
    "# if random from [0,1] > p, skip row\n",
    "df = pd.read_csv(\n",
    "         filename,\n",
    "         header=0, \n",
    "         skiprows=lambda i: i>0 and random.random() > p\n",
    ")"
   ]
  },
  {
   "cell_type": "code",
   "execution_count": 9,
   "metadata": {
    "scrolled": true
   },
   "outputs": [
    {
     "data": {
      "text/html": [
       "<div>\n",
       "<style scoped>\n",
       "    .dataframe tbody tr th:only-of-type {\n",
       "        vertical-align: middle;\n",
       "    }\n",
       "\n",
       "    .dataframe tbody tr th {\n",
       "        vertical-align: top;\n",
       "    }\n",
       "\n",
       "    .dataframe thead th {\n",
       "        text-align: right;\n",
       "    }\n",
       "</style>\n",
       "<table border=\"1\" class=\"dataframe\">\n",
       "  <thead>\n",
       "    <tr style=\"text-align: right;\">\n",
       "      <th></th>\n",
       "      <th>YEAR</th>\n",
       "      <th>QUARTER</th>\n",
       "      <th>MONTH</th>\n",
       "      <th>DAY_OF_MONTH</th>\n",
       "      <th>DAY_OF_WEEK</th>\n",
       "      <th>OP_CARRIER_AIRLINE_ID</th>\n",
       "      <th>OP_CARRIER_FL_NUM</th>\n",
       "      <th>ORIGIN_AIRPORT_ID</th>\n",
       "      <th>ORIGIN_AIRPORT_SEQ_ID</th>\n",
       "      <th>ORIGIN_CITY_MARKET_ID</th>\n",
       "      <th>...</th>\n",
       "      <th>DIV4_TAIL_NUM</th>\n",
       "      <th>DIV5_AIRPORT</th>\n",
       "      <th>DIV5_AIRPORT_ID</th>\n",
       "      <th>DIV5_AIRPORT_SEQ_ID</th>\n",
       "      <th>DIV5_WHEELS_ON</th>\n",
       "      <th>DIV5_TOTAL_GTIME</th>\n",
       "      <th>DIV5_LONGEST_GTIME</th>\n",
       "      <th>DIV5_WHEELS_OFF</th>\n",
       "      <th>DIV5_TAIL_NUM</th>\n",
       "      <th>Unnamed: 109</th>\n",
       "    </tr>\n",
       "  </thead>\n",
       "  <tbody>\n",
       "    <tr>\n",
       "      <th>count</th>\n",
       "      <td>56044.0</td>\n",
       "      <td>56044.000000</td>\n",
       "      <td>56044.000000</td>\n",
       "      <td>56044.000000</td>\n",
       "      <td>56044.000000</td>\n",
       "      <td>56044.000000</td>\n",
       "      <td>56044.000000</td>\n",
       "      <td>56044.000000</td>\n",
       "      <td>5.604400e+04</td>\n",
       "      <td>56044.000000</td>\n",
       "      <td>...</td>\n",
       "      <td>0.0</td>\n",
       "      <td>0.0</td>\n",
       "      <td>0.0</td>\n",
       "      <td>0.0</td>\n",
       "      <td>0.0</td>\n",
       "      <td>0.0</td>\n",
       "      <td>0.0</td>\n",
       "      <td>0.0</td>\n",
       "      <td>0.0</td>\n",
       "      <td>0.0</td>\n",
       "    </tr>\n",
       "    <tr>\n",
       "      <th>mean</th>\n",
       "      <td>2016.0</td>\n",
       "      <td>2.510295</td>\n",
       "      <td>6.526140</td>\n",
       "      <td>15.746681</td>\n",
       "      <td>3.937192</td>\n",
       "      <td>19900.804047</td>\n",
       "      <td>2075.057972</td>\n",
       "      <td>12679.535383</td>\n",
       "      <td>1.267956e+06</td>\n",
       "      <td>31715.162444</td>\n",
       "      <td>...</td>\n",
       "      <td>NaN</td>\n",
       "      <td>NaN</td>\n",
       "      <td>NaN</td>\n",
       "      <td>NaN</td>\n",
       "      <td>NaN</td>\n",
       "      <td>NaN</td>\n",
       "      <td>NaN</td>\n",
       "      <td>NaN</td>\n",
       "      <td>NaN</td>\n",
       "      <td>NaN</td>\n",
       "    </tr>\n",
       "    <tr>\n",
       "      <th>std</th>\n",
       "      <td>0.0</td>\n",
       "      <td>1.106478</td>\n",
       "      <td>3.402827</td>\n",
       "      <td>8.774354</td>\n",
       "      <td>1.987439</td>\n",
       "      <td>379.802052</td>\n",
       "      <td>1698.561546</td>\n",
       "      <td>1537.302116</td>\n",
       "      <td>1.537299e+05</td>\n",
       "      <td>1277.727045</td>\n",
       "      <td>...</td>\n",
       "      <td>NaN</td>\n",
       "      <td>NaN</td>\n",
       "      <td>NaN</td>\n",
       "      <td>NaN</td>\n",
       "      <td>NaN</td>\n",
       "      <td>NaN</td>\n",
       "      <td>NaN</td>\n",
       "      <td>NaN</td>\n",
       "      <td>NaN</td>\n",
       "      <td>NaN</td>\n",
       "    </tr>\n",
       "    <tr>\n",
       "      <th>min</th>\n",
       "      <td>2016.0</td>\n",
       "      <td>1.000000</td>\n",
       "      <td>1.000000</td>\n",
       "      <td>1.000000</td>\n",
       "      <td>1.000000</td>\n",
       "      <td>19393.000000</td>\n",
       "      <td>1.000000</td>\n",
       "      <td>10135.000000</td>\n",
       "      <td>1.013503e+06</td>\n",
       "      <td>30070.000000</td>\n",
       "      <td>...</td>\n",
       "      <td>NaN</td>\n",
       "      <td>NaN</td>\n",
       "      <td>NaN</td>\n",
       "      <td>NaN</td>\n",
       "      <td>NaN</td>\n",
       "      <td>NaN</td>\n",
       "      <td>NaN</td>\n",
       "      <td>NaN</td>\n",
       "      <td>NaN</td>\n",
       "      <td>NaN</td>\n",
       "    </tr>\n",
       "    <tr>\n",
       "      <th>25%</th>\n",
       "      <td>2016.0</td>\n",
       "      <td>2.000000</td>\n",
       "      <td>4.000000</td>\n",
       "      <td>8.000000</td>\n",
       "      <td>2.000000</td>\n",
       "      <td>19790.000000</td>\n",
       "      <td>709.000000</td>\n",
       "      <td>11292.000000</td>\n",
       "      <td>1.129202e+06</td>\n",
       "      <td>30615.000000</td>\n",
       "      <td>...</td>\n",
       "      <td>NaN</td>\n",
       "      <td>NaN</td>\n",
       "      <td>NaN</td>\n",
       "      <td>NaN</td>\n",
       "      <td>NaN</td>\n",
       "      <td>NaN</td>\n",
       "      <td>NaN</td>\n",
       "      <td>NaN</td>\n",
       "      <td>NaN</td>\n",
       "      <td>NaN</td>\n",
       "    </tr>\n",
       "    <tr>\n",
       "      <th>50%</th>\n",
       "      <td>2016.0</td>\n",
       "      <td>3.000000</td>\n",
       "      <td>7.000000</td>\n",
       "      <td>16.000000</td>\n",
       "      <td>4.000000</td>\n",
       "      <td>19805.000000</td>\n",
       "      <td>1635.000000</td>\n",
       "      <td>12889.000000</td>\n",
       "      <td>1.288903e+06</td>\n",
       "      <td>31453.000000</td>\n",
       "      <td>...</td>\n",
       "      <td>NaN</td>\n",
       "      <td>NaN</td>\n",
       "      <td>NaN</td>\n",
       "      <td>NaN</td>\n",
       "      <td>NaN</td>\n",
       "      <td>NaN</td>\n",
       "      <td>NaN</td>\n",
       "      <td>NaN</td>\n",
       "      <td>NaN</td>\n",
       "      <td>NaN</td>\n",
       "    </tr>\n",
       "    <tr>\n",
       "      <th>75%</th>\n",
       "      <td>2016.0</td>\n",
       "      <td>3.000000</td>\n",
       "      <td>9.000000</td>\n",
       "      <td>23.000000</td>\n",
       "      <td>6.000000</td>\n",
       "      <td>20304.000000</td>\n",
       "      <td>2858.000000</td>\n",
       "      <td>14057.000000</td>\n",
       "      <td>1.405702e+06</td>\n",
       "      <td>32467.000000</td>\n",
       "      <td>...</td>\n",
       "      <td>NaN</td>\n",
       "      <td>NaN</td>\n",
       "      <td>NaN</td>\n",
       "      <td>NaN</td>\n",
       "      <td>NaN</td>\n",
       "      <td>NaN</td>\n",
       "      <td>NaN</td>\n",
       "      <td>NaN</td>\n",
       "      <td>NaN</td>\n",
       "      <td>NaN</td>\n",
       "    </tr>\n",
       "    <tr>\n",
       "      <th>max</th>\n",
       "      <td>2016.0</td>\n",
       "      <td>4.000000</td>\n",
       "      <td>12.000000</td>\n",
       "      <td>31.000000</td>\n",
       "      <td>7.000000</td>\n",
       "      <td>21171.000000</td>\n",
       "      <td>7439.000000</td>\n",
       "      <td>16218.000000</td>\n",
       "      <td>1.621801e+06</td>\n",
       "      <td>35991.000000</td>\n",
       "      <td>...</td>\n",
       "      <td>NaN</td>\n",
       "      <td>NaN</td>\n",
       "      <td>NaN</td>\n",
       "      <td>NaN</td>\n",
       "      <td>NaN</td>\n",
       "      <td>NaN</td>\n",
       "      <td>NaN</td>\n",
       "      <td>NaN</td>\n",
       "      <td>NaN</td>\n",
       "      <td>NaN</td>\n",
       "    </tr>\n",
       "  </tbody>\n",
       "</table>\n",
       "<p>8 rows × 93 columns</p>\n",
       "</div>"
      ],
      "text/plain": [
       "          YEAR       QUARTER         MONTH  DAY_OF_MONTH   DAY_OF_WEEK  \\\n",
       "count  56044.0  56044.000000  56044.000000  56044.000000  56044.000000   \n",
       "mean    2016.0      2.510295      6.526140     15.746681      3.937192   \n",
       "std        0.0      1.106478      3.402827      8.774354      1.987439   \n",
       "min     2016.0      1.000000      1.000000      1.000000      1.000000   \n",
       "25%     2016.0      2.000000      4.000000      8.000000      2.000000   \n",
       "50%     2016.0      3.000000      7.000000     16.000000      4.000000   \n",
       "75%     2016.0      3.000000      9.000000     23.000000      6.000000   \n",
       "max     2016.0      4.000000     12.000000     31.000000      7.000000   \n",
       "\n",
       "       OP_CARRIER_AIRLINE_ID  OP_CARRIER_FL_NUM  ORIGIN_AIRPORT_ID  \\\n",
       "count           56044.000000       56044.000000       56044.000000   \n",
       "mean            19900.804047        2075.057972       12679.535383   \n",
       "std               379.802052        1698.561546        1537.302116   \n",
       "min             19393.000000           1.000000       10135.000000   \n",
       "25%             19790.000000         709.000000       11292.000000   \n",
       "50%             19805.000000        1635.000000       12889.000000   \n",
       "75%             20304.000000        2858.000000       14057.000000   \n",
       "max             21171.000000        7439.000000       16218.000000   \n",
       "\n",
       "       ORIGIN_AIRPORT_SEQ_ID  ORIGIN_CITY_MARKET_ID      ...       \\\n",
       "count           5.604400e+04           56044.000000      ...        \n",
       "mean            1.267956e+06           31715.162444      ...        \n",
       "std             1.537299e+05            1277.727045      ...        \n",
       "min             1.013503e+06           30070.000000      ...        \n",
       "25%             1.129202e+06           30615.000000      ...        \n",
       "50%             1.288903e+06           31453.000000      ...        \n",
       "75%             1.405702e+06           32467.000000      ...        \n",
       "max             1.621801e+06           35991.000000      ...        \n",
       "\n",
       "       DIV4_TAIL_NUM  DIV5_AIRPORT  DIV5_AIRPORT_ID  DIV5_AIRPORT_SEQ_ID  \\\n",
       "count            0.0           0.0              0.0                  0.0   \n",
       "mean             NaN           NaN              NaN                  NaN   \n",
       "std              NaN           NaN              NaN                  NaN   \n",
       "min              NaN           NaN              NaN                  NaN   \n",
       "25%              NaN           NaN              NaN                  NaN   \n",
       "50%              NaN           NaN              NaN                  NaN   \n",
       "75%              NaN           NaN              NaN                  NaN   \n",
       "max              NaN           NaN              NaN                  NaN   \n",
       "\n",
       "       DIV5_WHEELS_ON  DIV5_TOTAL_GTIME  DIV5_LONGEST_GTIME  DIV5_WHEELS_OFF  \\\n",
       "count             0.0               0.0                 0.0              0.0   \n",
       "mean              NaN               NaN                 NaN              NaN   \n",
       "std               NaN               NaN                 NaN              NaN   \n",
       "min               NaN               NaN                 NaN              NaN   \n",
       "25%               NaN               NaN                 NaN              NaN   \n",
       "50%               NaN               NaN                 NaN              NaN   \n",
       "75%               NaN               NaN                 NaN              NaN   \n",
       "max               NaN               NaN                 NaN              NaN   \n",
       "\n",
       "       DIV5_TAIL_NUM  Unnamed: 109  \n",
       "count            0.0           0.0  \n",
       "mean             NaN           NaN  \n",
       "std              NaN           NaN  \n",
       "min              NaN           NaN  \n",
       "25%              NaN           NaN  \n",
       "50%              NaN           NaN  \n",
       "75%              NaN           NaN  \n",
       "max              NaN           NaN  \n",
       "\n",
       "[8 rows x 93 columns]"
      ]
     },
     "execution_count": 9,
     "metadata": {},
     "output_type": "execute_result"
    }
   ],
   "source": [
    "df.head()\n",
    "df.tail()\n",
    "df.describe()"
   ]
  },
  {
   "cell_type": "code",
   "execution_count": 12,
   "metadata": {
    "scrolled": true
   },
   "outputs": [
    {
     "data": {
      "text/plain": [
       "count    55248.000000\n",
       "mean        11.620258\n",
       "std         37.084557\n",
       "min          0.000000\n",
       "25%          0.000000\n",
       "50%          0.000000\n",
       "75%          6.000000\n",
       "max       1146.000000\n",
       "Name: ARR_DELAY_NEW, dtype: float64"
      ]
     },
     "execution_count": 12,
     "metadata": {},
     "output_type": "execute_result"
    }
   ],
   "source": [
    "df['ARR_DELAY_NEW'].describe()"
   ]
  },
  {
   "cell_type": "code",
   "execution_count": 14,
   "metadata": {
    "scrolled": true
   },
   "outputs": [
    {
     "data": {
      "text/plain": [
       "count    55248.000000\n",
       "mean         3.294418\n",
       "std         40.660500\n",
       "min        -79.000000\n",
       "25%        -14.000000\n",
       "50%         -6.000000\n",
       "75%          6.000000\n",
       "max       1146.000000\n",
       "Name: ARR_DELAY, dtype: float64"
      ]
     },
     "execution_count": 14,
     "metadata": {},
     "output_type": "execute_result"
    }
   ],
   "source": [
    "df['ARR_DELAY'].describe()"
   ]
  },
  {
   "cell_type": "code",
   "execution_count": 28,
   "metadata": {
    "scrolled": true
   },
   "outputs": [
    {
     "data": {
      "text/plain": [
       "count      55911\n",
       "unique      4713\n",
       "top       N480HA\n",
       "freq          44\n",
       "Name: TAIL_NUM, dtype: object"
      ]
     },
     "execution_count": 28,
     "metadata": {},
     "output_type": "execute_result"
    }
   ],
   "source": [
    "df['TAIL_NUM'].describe()"
   ]
  },
  {
   "cell_type": "markdown",
   "metadata": {},
   "source": [
    "Unique tail numbers / planes from the 56k sample are 4713 (8.4%). Most frequent flied plane within this sample is Hawaiian Airlines plane, which makes sense because a typical flight in Hawaii is < 1 hr."
   ]
  },
  {
   "cell_type": "code",
   "execution_count": 26,
   "metadata": {},
   "outputs": [
    {
     "data": {
      "text/plain": [
       "Text(0,0.5,'Observations')"
      ]
     },
     "execution_count": 26,
     "metadata": {},
     "output_type": "execute_result"
    },
    {
     "data": {
      "image/png": "[encoded data removed]",
      "text/plain": [
       "<Figure size 1080x360 with 1 Axes>"
      ]
     },
     "metadata": {},
     "output_type": "display_data"
    }
   ],
   "source": [
    "df['CRS_ARR_TIME'].hist(bins = 24, figsize = (15, 5))\n",
    "plt.xlabel('CRS hhmm')\n",
    "plt.ylabel('Observations')"
   ]
  },
  {
   "cell_type": "code",
   "execution_count": 16,
   "metadata": {},
   "outputs": [
    {
     "name": "stdout",
     "output_type": "stream",
     "text": [
      "          YEAR       QUARTER         MONTH  DAY_OF_MONTH   DAY_OF_WEEK  OP_CARRIER_AIRLINE_ID  OP_CARRIER_FL_NUM  ORIGIN_AIRPORT_ID  ORIGIN_AIRPORT_SEQ_ID  ORIGIN_CITY_MARKET_ID  ORIGIN_STATE_FIPS    ORIGIN_WAC  DEST_AIRPORT_ID  DEST_AIRPORT_SEQ_ID  DEST_CITY_MARKET_ID  DEST_STATE_FIPS      DEST_WAC  CRS_DEP_TIME      DEP_TIME     DEP_DELAY  DEP_DELAY_NEW     DEP_DEL15  DEP_DELAY_GROUP      TAXI_OUT    WHEELS_OFF     WHEELS_ON       TAXI_IN  CRS_ARR_TIME      ARR_TIME     ARR_DELAY  ARR_DELAY_NEW     ARR_DEL15  ARR_DELAY_GROUP     CANCELLED     DIVERTED  CRS_ELAPSED_TIME  ACTUAL_ELAPSED_TIME      AIR_TIME  FLIGHTS      DISTANCE  DISTANCE_GROUP  CARRIER_DELAY  WEATHER_DELAY    NAS_DELAY  SECURITY_DELAY  LATE_AIRCRAFT_DELAY  FIRST_DEP_TIME  TOTAL_ADD_GTIME  LONGEST_ADD_GTIME  DIV_AIRPORT_LANDINGS  DIV_REACHED_DEST  DIV_ACTUAL_ELAPSED_TIME  DIV_ARR_DELAY  DIV_DISTANCE  DIV1_AIRPORT_ID  DIV1_AIRPORT_SEQ_ID  DIV1_WHEELS_ON  DIV1_TOTAL_GTIME  DIV1_LONGEST_GTIME  DIV1_WHEELS_OFF  DIV2_AIRPORT  DIV2_AIRPORT_ID  DIV2_AIRPORT_SEQ_ID  DIV2_WHEELS_ON  DIV2_TOTAL_GTIME  DIV2_LONGEST_GTIME  DIV2_WHEELS_OFF  DIV2_TAIL_NUM  DIV3_AIRPORT  DIV3_AIRPORT_ID  DIV3_AIRPORT_SEQ_ID  DIV3_WHEELS_ON  DIV3_TOTAL_GTIME  DIV3_LONGEST_GTIME  DIV3_WHEELS_OFF  DIV3_TAIL_NUM  DIV4_AIRPORT  DIV4_AIRPORT_ID  DIV4_AIRPORT_SEQ_ID  DIV4_WHEELS_ON  DIV4_TOTAL_GTIME  DIV4_LONGEST_GTIME  DIV4_WHEELS_OFF  DIV4_TAIL_NUM  DIV5_AIRPORT  DIV5_AIRPORT_ID  DIV5_AIRPORT_SEQ_ID  DIV5_WHEELS_ON  DIV5_TOTAL_GTIME  DIV5_LONGEST_GTIME  DIV5_WHEELS_OFF  DIV5_TAIL_NUM  Unnamed: 109\n",
      "count  56044.0  56044.000000  56044.000000  56044.000000  56044.000000           56044.000000       56044.000000       56044.000000           5.604400e+04           56044.000000       56044.000000  56044.000000     56044.000000         5.604400e+04         56044.000000     56044.000000  56044.000000  56044.000000  55406.000000  55406.000000   55406.000000  55406.000000     55406.000000  55391.000000  55391.000000  55363.000000  55363.000000  56044.000000  55363.000000  55248.000000   55248.000000  55248.000000     55248.000000  56044.000000  56044.00000      56044.000000         55248.000000  55248.000000  56044.0  56044.000000    56044.000000    9507.000000    9507.000000  9507.000000     9507.000000          9507.000000      334.000000       334.000000         334.000000          56044.000000        139.000000               115.000000     115.000000    139.000000       143.000000         1.430000e+02      143.000000        143.000000          143.000000       115.000000           0.0              0.0                  0.0             0.0               0.0                 0.0              0.0            0.0           0.0              0.0                  0.0             0.0               0.0                 0.0              0.0            0.0           0.0              0.0                  0.0             0.0               0.0                 0.0              0.0            0.0           0.0              0.0                  0.0             0.0               0.0                 0.0              0.0            0.0           0.0\n",
      "mean    2016.0      2.510295      6.526140     15.746681      3.937192           19900.804047        2075.057972       12679.535383           1.267956e+06           31715.162444          25.620352     55.701021     12688.491185         1.268852e+06         31721.863928        25.708675     55.691671   1334.015773   1335.958145      8.776956      11.708606      0.171119        -0.019384     16.133090   1357.247513   1465.654932      7.465419   1489.301602   1469.983238      3.294418      11.620258      0.172079        -0.276879      0.011723      0.00248        145.421794           140.150539    116.559513      1.0    850.497966        3.873581      19.822762       3.031766    14.559482        0.055433            24.029136     1351.550898        34.751497          34.341317              0.003123          0.827338               355.982609     204.347826     66.187050     12617.888112         1.261792e+06     1454.958042         33.293706           27.237762      1489.921739           NaN              NaN                  NaN             NaN               NaN                 NaN              NaN            NaN           NaN              NaN                  NaN             NaN               NaN                 NaN              NaN            NaN           NaN              NaN                  NaN             NaN               NaN                 NaN              NaN            NaN           NaN              NaN                  NaN             NaN               NaN                 NaN              NaN            NaN           NaN\n",
      "std        0.0      1.106478      3.402827      8.774354      1.987439             379.802052        1698.561546        1537.302116           1.537299e+05            1277.727045          16.619245     27.078285      1532.127729         1.532125e+05          1283.066550        16.612925     27.071815    489.950956    503.208469     38.447816      37.391327      0.376616         2.065218      8.647732    505.082072    532.649612      5.722536    519.045361    537.012114     40.660500      37.084557      0.377452         2.189138      0.107637      0.04974         76.820315            75.947752     73.852031      0.0    623.212784        2.443324      53.038508      25.035465    31.633059        1.387775            43.536852      498.363558        31.333926          30.148038              0.090839          0.379322               148.358857     138.652604    313.493165      1610.348204         1.610347e+05      613.964408         34.115139           32.021330       630.086253           NaN              NaN                  NaN             NaN               NaN                 NaN              NaN            NaN           NaN              NaN                  NaN             NaN               NaN                 NaN              NaN            NaN           NaN              NaN                  NaN             NaN               NaN                 NaN              NaN            NaN           NaN              NaN                  NaN             NaN               NaN                 NaN              NaN            NaN           NaN\n",
      "min     2016.0      1.000000      1.000000      1.000000      1.000000           19393.000000           1.000000       10135.000000           1.013503e+06           30070.000000           1.000000      1.000000     10135.000000         1.013503e+06         30070.000000         1.000000      1.000000      2.000000      1.000000    -35.000000       0.000000      0.000000        -2.000000      1.000000      1.000000      1.000000      1.000000      1.000000      1.000000    -79.000000       0.000000      0.000000        -2.000000      0.000000      0.00000         20.000000            15.000000      9.000000      1.0     31.000000        1.000000       0.000000       0.000000     0.000000        0.000000             0.000000       50.000000         1.000000           1.000000              0.000000          0.000000                82.000000      42.000000      0.000000     10135.000000         1.013503e+06        3.000000          3.000000            3.000000        28.000000           NaN              NaN                  NaN             NaN               NaN                 NaN              NaN            NaN           NaN              NaN                  NaN             NaN               NaN                 NaN              NaN            NaN           NaN              NaN                  NaN             NaN               NaN                 NaN              NaN            NaN           NaN              NaN                  NaN             NaN               NaN                 NaN              NaN            NaN           NaN\n",
      "25%     2016.0      2.000000      4.000000      8.000000      2.000000           19790.000000         709.000000       11292.000000           1.129202e+06           30615.000000          12.000000     34.000000     11292.000000         1.129202e+06         30615.000000        12.000000     34.000000    920.000000    919.000000     -5.000000       0.000000      0.000000        -1.000000     11.000000    934.000000   1047.000000      4.000000   1105.000000   1050.000000    -14.000000       0.000000      0.000000        -1.000000      0.000000      0.00000         88.000000            84.000000     62.000000      1.0    391.000000        2.000000       0.000000       0.000000     0.000000        0.000000             0.000000      905.250000        16.000000          16.000000              0.000000          1.000000               246.500000     119.000000      0.000000     11275.500000         1.127552e+06     1115.500000         14.000000           10.000000      1149.000000           NaN              NaN                  NaN             NaN               NaN                 NaN              NaN            NaN           NaN              NaN                  NaN             NaN               NaN                 NaN              NaN            NaN           NaN              NaN                  NaN             NaN               NaN                 NaN              NaN            NaN           NaN              NaN                  NaN             NaN               NaN                 NaN              NaN            NaN           NaN\n",
      "50%     2016.0      3.000000      7.000000     16.000000      4.000000           19805.000000        1635.000000       12889.000000           1.288903e+06           31453.000000          24.000000     52.000000     12889.000000         1.288903e+06         31453.000000        24.000000     52.000000   1329.000000   1330.000000     -2.000000       0.000000      0.000000        -1.000000     14.000000   1343.000000   1507.000000      6.000000   1521.000000   1511.000000     -6.000000       0.000000      0.000000        -1.000000      0.000000      0.00000        126.000000           121.000000     97.000000      1.0    678.000000        3.000000       2.000000       0.000000     2.000000        0.000000             2.000000     1380.000000        24.000000          24.000000              0.000000          1.000000               344.000000     174.000000      0.000000     12339.000000         1.233904e+06     1604.000000         21.000000           14.000000      1644.000000           NaN              NaN                  NaN             NaN               NaN                 NaN              NaN            NaN           NaN              NaN                  NaN             NaN               NaN                 NaN              NaN            NaN           NaN              NaN                  NaN             NaN               NaN                 NaN              NaN            NaN           NaN              NaN                  NaN             NaN               NaN                 NaN              NaN            NaN           NaN\n",
      "75%     2016.0      3.000000      9.000000     23.000000      6.000000           20304.000000        2858.000000       14057.000000           1.405702e+06           32467.000000          39.000000     82.000000     14057.000000         1.405702e+06         32467.000000        40.000000     82.000000   1736.000000   1743.000000      6.000000       6.000000      0.000000         0.000000     19.000000   1758.000000   1912.000000      9.000000   1920.000000   1917.000000      6.000000       6.000000      0.000000         0.000000      0.000000      0.00000        177.000000           173.000000    148.000000      1.0   1091.000000        5.000000      18.500000       0.000000    18.000000        0.000000            31.000000     1727.500000        42.000000          42.000000              0.000000          1.000000               428.500000     233.000000      0.000000     13930.000000         1.393004e+06     1923.000000         38.000000           27.500000      1973.000000           NaN              NaN                  NaN             NaN               NaN                 NaN              NaN            NaN           NaN              NaN                  NaN             NaN               NaN                 NaN              NaN            NaN           NaN              NaN                  NaN             NaN               NaN                 NaN              NaN            NaN           NaN              NaN                  NaN             NaN               NaN                 NaN              NaN            NaN           NaN\n",
      "max     2016.0      4.000000     12.000000     31.000000      7.000000           21171.000000        7439.000000       16218.000000           1.621801e+06           35991.000000          78.000000     93.000000     16218.000000         1.621801e+06         35991.000000        78.000000     93.000000   2359.000000   2400.000000   1153.000000    1153.000000      1.000000        12.000000    148.000000   2400.000000   2400.000000    169.000000   2400.000000   2400.000000   1146.000000    1146.000000      1.000000        12.000000      1.000000      1.00000        695.000000           687.000000    667.000000      1.0   4983.000000       11.000000    1049.000000    1135.000000  1146.000000       78.000000           790.000000     2350.000000       205.000000         171.000000              9.000000          1.000000              1069.000000     839.000000   2556.000000     15919.000000         1.591902e+06     2352.000000        180.000000          168.000000      2349.000000           NaN              NaN                  NaN             NaN               NaN                 NaN              NaN            NaN           NaN              NaN                  NaN             NaN               NaN                 NaN              NaN            NaN           NaN              NaN                  NaN             NaN               NaN                 NaN              NaN            NaN           NaN              NaN                  NaN             NaN               NaN                 NaN              NaN            NaN           NaN\n"
     ]
    }
   ],
   "source": [
    "print(df.describe().to_string())"
   ]
  },
  {
   "cell_type": "code",
   "execution_count": 29,
   "metadata": {},
   "outputs": [
    {
     "data": {
      "text/plain": [
       "count    9507.000000\n",
       "mean        0.055433\n",
       "std         1.387775\n",
       "min         0.000000\n",
       "25%         0.000000\n",
       "50%         0.000000\n",
       "75%         0.000000\n",
       "max        78.000000\n",
       "Name: SECURITY_DELAY, dtype: float64"
      ]
     },
     "execution_count": 29,
     "metadata": {},
     "output_type": "execute_result"
    }
   ],
   "source": [
    "df['SECURITY_DELAY'].describe()"
   ]
  },
  {
   "cell_type": "code",
   "execution_count": 30,
   "metadata": {
    "scrolled": true
   },
   "outputs": [
    {
     "data": {
      "text/plain": [
       "count    9507.000000\n",
       "mean       19.822762\n",
       "std        53.038508\n",
       "min         0.000000\n",
       "25%         0.000000\n",
       "50%         2.000000\n",
       "75%        18.500000\n",
       "max      1049.000000\n",
       "Name: CARRIER_DELAY, dtype: float64"
      ]
     },
     "execution_count": 30,
     "metadata": {},
     "output_type": "execute_result"
    }
   ],
   "source": [
    "df['CARRIER_DELAY'].describe()"
   ]
  },
  {
   "cell_type": "code",
   "execution_count": 31,
   "metadata": {},
   "outputs": [
    {
     "data": {
      "text/plain": [
       "count    9507.000000\n",
       "mean        3.031766\n",
       "std        25.035465\n",
       "min         0.000000\n",
       "25%         0.000000\n",
       "50%         0.000000\n",
       "75%         0.000000\n",
       "max      1135.000000\n",
       "Name: WEATHER_DELAY, dtype: float64"
      ]
     },
     "execution_count": 31,
     "metadata": {},
     "output_type": "execute_result"
    }
   ],
   "source": [
    "df['WEATHER_DELAY'].describe()"
   ]
  }
 ],
 "metadata": {
  "kernelspec": {
   "display_name": "Python 3",
   "language": "python",
   "name": "python3"
  },
  "language_info": {
   "codemirror_mode": {
    "name": "ipython",
    "version": 3
   },
   "file_extension": ".py",
   "mimetype": "text/x-python",
   "name": "python",
   "nbconvert_exporter": "python",
   "pygments_lexer": "ipython3",
   "version": "3.6.5"
  }
 },
 "nbformat": 4,
 "nbformat_minor": 2
}
